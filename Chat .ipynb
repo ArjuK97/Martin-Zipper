{
 "cells": [
  {
   "cell_type": "code",
   "execution_count": 1,
   "id": "eedee3d1-9c74-48a4-beb7-2773816cbdf9",
   "metadata": {
    "tags": []
   },
   "outputs": [],
   "source": [
    "from nltk.chat.util import Chat, reflections"
   ]
  },
  {
   "cell_type": "code",
   "execution_count": 2,
   "id": "df569cca-612f-45b5-bf4a-2a0274052e01",
   "metadata": {
    "tags": []
   },
   "outputs": [],
   "source": [
    "pairs = [\n",
    "    ['my name is (.*)', ['Hello! %1']],\n",
    "    ['(hi|hello|hey|holla|hola)', ['Hey there!', 'Hi there!', 'Hey!']],\n",
    "    ['(.*) your name ?', ['My name is Geeky']],\n",
    "    ['(.*) do you do ?', ['We provide a platform for shopping , a wide range of options!']],\n",
    "    ['(.*) (created you|made you) ?', ['A-Z infocom']],\n",
    "    [r\"(.*)(caps)(.*)\",[\"Sure! You can visit our website at ('https://www.flipkart.com/search?q=caps&otracker=search&otracker1=search&marketplace=FLIPKART&as-show=on&as=off').\"]],\n",
    "    [r\"(.*)(jeans)(.*)\",[\"Sure! You can visit our website at ('https://www.flipkart.com/search?q=jeans&otracker=search&otracker1=search&marketplace=FLIPKART&as-show=on&as=off').\"]]\n",
    "]\n"
   ]
  },
  {
   "cell_type": "code",
   "execution_count": 3,
   "id": "3ff44151-32d8-4137-84a0-3fd6c73d4cf3",
   "metadata": {
    "tags": []
   },
   "outputs": [
    {
     "name": "stdout",
     "output_type": "stream",
     "text": [
      "Hi, I'm Geeky and I like to chat\n",
      "Please type lowercase English language to start a conversation. Type quit to leave \n"
     ]
    }
   ],
   "source": [
    "print(\"Hi, I'm Geeky and I like to chat\\nPlease type lowercase English language to start a conversation. Type quit to leave \")\n",
    "#Create Chat Bot"
   ]
  },
  {
   "cell_type": "code",
   "execution_count": null,
   "id": "c04b529a-48af-4542-bb23-ee354a8a0452",
   "metadata": {
    "tags": []
   },
   "outputs": [
    {
     "name": "stdin",
     "output_type": "stream",
     "text": [
      "> hi\n"
     ]
    },
    {
     "name": "stdout",
     "output_type": "stream",
     "text": [
      "Hey!\n"
     ]
    },
    {
     "name": "stdin",
     "output_type": "stream",
     "text": [
      "> what your name\n"
     ]
    },
    {
     "name": "stdout",
     "output_type": "stream",
     "text": [
      "My name is Geeky\n"
     ]
    },
    {
     "name": "stdin",
     "output_type": "stream",
     "text": [
      "> who made you\n"
     ]
    },
    {
     "name": "stdout",
     "output_type": "stream",
     "text": [
      "A-Z infocom\n"
     ]
    },
    {
     "name": "stdin",
     "output_type": "stream",
     "text": [
      "> want jeans\n"
     ]
    },
    {
     "name": "stdout",
     "output_type": "stream",
     "text": [
      "Sure! You can visit our website at ('https://www.flipkart.com/search?q=jeans&otracker=search&otracker1=search&marketplace=FLIPKART&as-show=on&as=off').\n"
     ]
    }
   ],
   "source": [
    "chat = Chat(pairs, reflections)\n",
    "chat.converse()\n"
   ]
  }
 ],
 "metadata": {
  "kernelspec": {
   "display_name": "Python 3 (ipykernel)",
   "language": "python",
   "name": "python3"
  },
  "language_info": {
   "codemirror_mode": {
    "name": "ipython",
    "version": 3
   },
   "file_extension": ".py",
   "mimetype": "text/x-python",
   "name": "python",
   "nbconvert_exporter": "python",
   "pygments_lexer": "ipython3",
   "version": "3.11.3"
  }
 },
 "nbformat": 4,
 "nbformat_minor": 5
}
