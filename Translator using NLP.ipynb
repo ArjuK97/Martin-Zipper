{
 "cells": [
  {
   "cell_type": "code",
   "execution_count": 1,
   "id": "d8cc651b-93bb-49b9-98d3-ab9a1ffc5cf9",
   "metadata": {
    "tags": []
   },
   "outputs": [],
   "source": [
    "from googletrans import Translator"
   ]
  },
  {
   "cell_type": "code",
   "execution_count": 2,
   "id": "edd7adf2-79d9-4662-af39-a206a03d2707",
   "metadata": {
    "tags": []
   },
   "outputs": [],
   "source": [
    "from langdetect import detect_langs"
   ]
  },
  {
   "cell_type": "code",
   "execution_count": 3,
   "id": "d276b9b9-27ae-4ae2-a8bd-bfe5ae53c3f5",
   "metadata": {
    "tags": []
   },
   "outputs": [
    {
     "name": "stdout",
     "output_type": "stream",
     "text": [
      "[fr:0.9999985921895642]\n"
     ]
    }
   ],
   "source": [
    "from langdetect import detect_langs\n",
    "sentence=\"\"\"L'intelligence artificielle (IA) est l'intelligence des machines ou des logiciels, par opposition à l'intelligence des humains ou des animaux. C'est aussi le domaine d'études en informatique qui développe et étudie les machines intelligentes. « IA » peut également faire référence aux machines elles-mêmes.\n",
    "\n",
    "La technologie de l’IA est largement utilisée dans l’industrie, le gouvernement et la science. Certaines applications de premier plan sont : les moteurs de recherche Web avancés (par exemple, la recherche Google), les systèmes de recommandation (utilisés par YouTube, Amazon et Netflix), la compréhension de la parole humaine (comme Siri et Alexa), les voitures autonomes (par exemple, Waymo ), des outils génératifs ou créatifs (ChatGPT et AI art) et la compétition au plus haut niveau dans des jeux stratégiques (comme les échecs et le Go).[1]\n",
    "\n",
    "L'intelligence artificielle a été fondée en tant que discipline académique en 1956.[2] Le domaine a traversé plusieurs cycles d'optimisme[3][4] suivis de déception et de perte de financement[5][6] mais après 2012, lorsque l'apprentissage profond a surpassé toutes les techniques d'IA précédentes,[7] il y a eu une forte augmentation de financement et intérêts.\n",
    "\n",
    "Les différents sous-domaines de la recherche en IA sont centrés sur des objectifs particuliers et sur l’utilisation d’outils particuliers. Les objectifs traditionnels de la recherche en IA comprennent le raisonnement, la représentation des connaissances, la planification, l'apprentissage, le traitement du langage naturel, la perception et la prise en charge de la robotique.[a] L'intelligence générale (la capacité de résoudre un problème arbitraire) fait partie des objectifs à long terme du domaine. [8] Pour résoudre ces problèmes, les chercheurs en IA ont adapté et intégré un large éventail de techniques de résolution de problèmes, notamment la recherche et l'optimisation mathématique, la logique formelle, les réseaux de neurones artificiels et les méthodes basées sur les statistiques, la recherche opérationnelle et l'économie.[b] L'IA également s'appuie sur la psychologie, la linguistique, la philosophie, les neurosciences et de nombreux autres domaines.\"\"\"\n",
    "print(detect_langs(sentence))"
   ]
  },
  {
   "cell_type": "code",
   "execution_count": 4,
   "id": "02f4701f-f3a0-45c9-a459-f2a593396685",
   "metadata": {
    "tags": []
   },
   "outputs": [
    {
     "name": "stdout",
     "output_type": "stream",
     "text": [
      "{'af': 'afrikaans', 'sq': 'albanian', 'am': 'amharic', 'ar': 'arabic', 'hy': 'armenian', 'az': 'azerbaijani', 'eu': 'basque', 'be': 'belarusian', 'bn': 'bengali', 'bs': 'bosnian', 'bg': 'bulgarian', 'ca': 'catalan', 'ceb': 'cebuano', 'ny': 'chichewa', 'zh-cn': 'chinese (simplified)', 'zh-tw': 'chinese (traditional)', 'co': 'corsican', 'hr': 'croatian', 'cs': 'czech', 'da': 'danish', 'nl': 'dutch', 'en': 'english', 'eo': 'esperanto', 'et': 'estonian', 'tl': 'filipino', 'fi': 'finnish', 'fr': 'french', 'fy': 'frisian', 'gl': 'galician', 'ka': 'georgian', 'de': 'german', 'el': 'greek', 'gu': 'gujarati', 'ht': 'haitian creole', 'ha': 'hausa', 'haw': 'hawaiian', 'iw': 'hebrew', 'he': 'hebrew', 'hi': 'hindi', 'hmn': 'hmong', 'hu': 'hungarian', 'is': 'icelandic', 'ig': 'igbo', 'id': 'indonesian', 'ga': 'irish', 'it': 'italian', 'ja': 'japanese', 'jw': 'javanese', 'kn': 'kannada', 'kk': 'kazakh', 'km': 'khmer', 'ko': 'korean', 'ku': 'kurdish (kurmanji)', 'ky': 'kyrgyz', 'lo': 'lao', 'la': 'latin', 'lv': 'latvian', 'lt': 'lithuanian', 'lb': 'luxembourgish', 'mk': 'macedonian', 'mg': 'malagasy', 'ms': 'malay', 'ml': 'malayalam', 'mt': 'maltese', 'mi': 'maori', 'mr': 'marathi', 'mn': 'mongolian', 'my': 'myanmar (burmese)', 'ne': 'nepali', 'no': 'norwegian', 'or': 'odia', 'ps': 'pashto', 'fa': 'persian', 'pl': 'polish', 'pt': 'portuguese', 'pa': 'punjabi', 'ro': 'romanian', 'ru': 'russian', 'sm': 'samoan', 'gd': 'scots gaelic', 'sr': 'serbian', 'st': 'sesotho', 'sn': 'shona', 'sd': 'sindhi', 'si': 'sinhala', 'sk': 'slovak', 'sl': 'slovenian', 'so': 'somali', 'es': 'spanish', 'su': 'sundanese', 'sw': 'swahili', 'sv': 'swedish', 'tg': 'tajik', 'ta': 'tamil', 'te': 'telugu', 'th': 'thai', 'tr': 'turkish', 'uk': 'ukrainian', 'ur': 'urdu', 'ug': 'uyghur', 'uz': 'uzbek', 'vi': 'vietnamese', 'cy': 'welsh', 'xh': 'xhosa', 'yi': 'yiddish', 'yo': 'yoruba', 'zu': 'zulu'}\n"
     ]
    }
   ],
   "source": [
    "import googletrans\n",
    "print(googletrans.LANGUAGES)"
   ]
  },
  {
   "cell_type": "code",
   "execution_count": 5,
   "id": "50a3e8ee-14a8-4148-8c10-b9b0c1a572b2",
   "metadata": {
    "tags": []
   },
   "outputs": [
    {
     "data": {
      "text/plain": [
       "\"L'intelligence artificielle (IA) est l'intelligence des machines ou des logiciels, par opposition à l'intelligence des humains ou des animaux. C'est aussi le domaine d'études en informatique qui développe et étudie les machines intelligentes. « IA » peut également faire référence aux machines elles-mêmes.\\n\\nLa technologie de l’IA est largement utilisée dans l’industrie, le gouvernement et la science. Certaines applications de premier plan sont : les moteurs de recherche Web avancés (par exemple, la recherche Google), les systèmes de recommandation (utilisés par YouTube, Amazon et Netflix), la compréhension de la parole humaine (comme Siri et Alexa), les voitures autonomes (par exemple, Waymo ), des outils génératifs ou créatifs (ChatGPT et AI art) et la compétition au plus haut niveau dans des jeux stratégiques (comme les échecs et le Go).[1]\\n\\nL'intelligence artificielle a été fondée en tant que discipline académique en 1956.[2] Le domaine a traversé plusieurs cycles d'optimisme[3][4] suivis de déception et de perte de financement[5][6] mais après 2012, lorsque l'apprentissage profond a surpassé toutes les techniques d'IA précédentes,[7] il y a eu une forte augmentation de financement et intérêts.\\n\\nLes différents sous-domaines de la recherche en IA sont centrés sur des objectifs particuliers et sur l’utilisation d’outils particuliers. Les objectifs traditionnels de la recherche en IA comprennent le raisonnement, la représentation des connaissances, la planification, l'apprentissage, le traitement du langage naturel, la perception et la prise en charge de la robotique.[a] L'intelligence générale (la capacité de résoudre un problème arbitraire) fait partie des objectifs à long terme du domaine. [8] Pour résoudre ces problèmes, les chercheurs en IA ont adapté et intégré un large éventail de techniques de résolution de problèmes, notamment la recherche et l'optimisation mathématique, la logique formelle, les réseaux de neurones artificiels et les méthodes basées sur les statistiques, la recherche opérationnelle et l'économie.[b] L'IA également s'appuie sur la psychologie, la linguistique, la philosophie, les neurosciences et de nombreux autres domaines.\""
      ]
     },
     "execution_count": 5,
     "metadata": {},
     "output_type": "execute_result"
    }
   ],
   "source": [
    "sentence"
   ]
  },
  {
   "cell_type": "code",
   "execution_count": 6,
   "id": "a3392f63-9376-4e7d-b37f-29647ce13468",
   "metadata": {
    "tags": []
   },
   "outputs": [
    {
     "name": "stdout",
     "output_type": "stream",
     "text": [
      "Artificial intelligence (AI) is the intelligence of machines or software, as opposed to the intelligence of humans or animals.It is also the field of computer studies that develops and studies smart machines.\"AI\" can also refer to the machines themselves.\n",
      "\n",
      "AI technology is widely used in industry, government and science.Some leading applications are: advanced web search engines (for example, Google research), recommendation systems (used by YouTube, Amazon and Netflix), understanding human speech (as Siri and Alexa),Autonomous cars (for example, waymo), generative or creative tools (Chatgpt and AI Art) and competition at the highest level in strategic games (such as failures and Go). [1]\n",
      "\n",
      "Artificial intelligence was founded as an academic discipline in 1956. [2]The field has gone through several cycles of optimism [3] [4] Followed by disappointment and loss of financing [5] [6] But after 2012, when deep learning surpassed all the techniques of previous AI, [7] There has been a sharp increase in financing and interest.\n",
      "\n",
      "The different sub-domains of AI research are centered on special objectives and on the use of specific tools.The traditional objectives of research in AI understand reasoning, representation of knowledge, planning, learning, treatment of natural language, perception and management of robotics. [A] General intelligence (theAbility to solve an arbitrary problem) is one of the long -term objectives of the field.[8] To solve these problems, IA researchers have adapted and integrated a wide range of problem -solving techniques, including mathematical research and optimization, formal logic, artificial neural networks and methods based onStatistics, operational research and economy. [B] AI is also based on psychology, linguistics, philosophy, neuroscience and many other fields.\n"
     ]
    }
   ],
   "source": [
    "\n",
    "translator = Translator()\n",
    "translated_sentence = translator.translate(sentence, src='fr', dest='en')\n",
    "# Print the translated sentence\n",
    "print(translated_sentence.text)"
   ]
  },
  {
   "cell_type": "code",
   "execution_count": 9,
   "id": "7c950c94-87c0-413a-9f04-b432edd7d16a",
   "metadata": {
    "tags": []
   },
   "outputs": [
    {
     "name": "stdout",
     "output_type": "stream",
     "text": [
      "आर्टिफिशियल इंटेलिजेंस (एआई) मशीनों या सॉफ्टवेयर की बुद्धिमत्ता है, जैसा कि मनुष्यों या जानवरों की बुद्धिमत्ता के विपरीत है।यह कंप्यूटर अध्ययन का क्षेत्र भी है जो स्मार्ट मशीनों को विकसित और अध्ययन करता है।\"एआई\" स्वयं मशीनों को भी संदर्भित कर सकता है।\n",
      "\n",
      "एआई तकनीक का व्यापक रूप से उद्योग, सरकार और विज्ञान में उपयोग किया जाता है।कुछ प्रमुख अनुप्रयोग हैं: उन्नत वेब खोज इंजन (उदाहरण के लिए, Google अनुसंधान), सिफारिश प्रणाली (YouTube, अमेज़ॅन और नेटफ्लिक्स द्वारा उपयोग की जाने वाली), मानव भाषण (सिरी और एलेक्सा के रूप में), स्वायत्त कारों (उदाहरण के लिए, वेमो), जनरेटिव या रचनात्मक उपकरण (CHATGPT और AI कला) और रणनीतिक खेलों में उच्चतम स्तर पर प्रतिस्पर्धा (जैसे विफलताएं और GO)। [1]\n",
      "\n",
      "आर्टिफिशियल इंटेलिजेंस की स्थापना 1956 में एक शैक्षणिक अनुशासन के रूप में की गई थी। [2]यह क्षेत्र आशावाद के कई चक्रों से गुजरा है [3] [4] इसके बाद निराशा और वित्तपोषण की हानि हुई [5] [6] लेकिन 2012 के बाद, जब गहरी सीखने ने पिछले एआई की सभी तकनीकों को पार कर लिया, [7] एक रहा है वित्तपोषण और ब्याज में तेज वृद्धि।\n",
      "\n",
      "एआई अनुसंधान के विभिन्न उप-डोमेन विशेष उद्देश्यों और विशिष्ट उपकरणों के उपयोग पर केंद्रित हैं।एआई में अनुसंधान के पारंपरिक उद्देश्य तर्क, ज्ञान का प्रतिनिधित्व, योजना, सीखने, प्राकृतिक भाषा का उपचार, रोबोटिक्स के प्रबंधन और प्रबंधन को समझते हैं। [ए] सामान्य बुद्धि (एक मनमानी समस्या को हल करने की क्षमता) लंबे समय से एक है। क्षेत्र के उद्देश्य।] मनोविज्ञान, भाषा विज्ञान, दर्शन, तंत्रिका विज्ञान और कई अन्य क्षेत्रों पर भी आधारित है।\n"
     ]
    }
   ],
   "source": [
    "translator = Translator()\n",
    "translated_sentence = translator.translate(sentence, src='fr', dest='hi')\n",
    "# Print the translated sentence\n",
    "print(translated_sentence.text)"
   ]
  },
  {
   "cell_type": "code",
   "execution_count": 10,
   "id": "e3f11390-f200-46b9-8bdf-0aae579dbd2e",
   "metadata": {
    "tags": []
   },
   "outputs": [
    {
     "name": "stdout",
     "output_type": "stream",
     "text": [
      "কৃত্রিম বুদ্ধিমত্তা (এআই) হ'ল মানুষ বা প্রাণীর বুদ্ধিমত্তার বিপরীতে মেশিন বা সফ্টওয়্যারগুলির বুদ্ধি।এটি কম্পিউটার অধ্যয়নের ক্ষেত্রও যা স্মার্ট মেশিনগুলি বিকাশ করে এবং অধ্যয়ন করে।\"এআই\" নিজেই মেশিনগুলিকে উল্লেখ করতে পারে।\n",
      "\n",
      "এআই প্রযুক্তি শিল্প, সরকার এবং বিজ্ঞানে ব্যাপকভাবে ব্যবহৃত হয়।কিছু শীর্ষস্থানীয় অ্যাপ্লিকেশনগুলি হ'ল: উন্নত ওয়েব অনুসন্ধান ইঞ্জিনগুলি (উদাহরণস্বরূপ, গুগল রিসার্চ), সুপারিশ সিস্টেমগুলি (ইউটিউব, অ্যামাজন এবং নেটফ্লিক্স দ্বারা ব্যবহৃত), মানুষের বক্তৃতা (সিরি এবং আলেক্সা হিসাবে), স্বায়ত্তশাসিত গাড়ি (উদাহরণস্বরূপ, ওয়াইমো), জেনারেটর বা সৃজনশীল সরঞ্জাম (চ্যাটজিপিটি এবং এআই আর্ট) এবং কৌশলগত গেমগুলিতে সর্বোচ্চ স্তরে প্রতিযোগিতা (যেমন ব্যর্থতা এবং গো) [[1]\n",
      "\n",
      "কৃত্রিম বুদ্ধিমত্তা 1956 সালে একাডেমিক শৃঙ্খলা হিসাবে প্রতিষ্ঠিত হয়েছিল। [২]ক্ষেত্রটি আশাবাদীর বিভিন্ন চক্রের মধ্য দিয়ে গেছে [৩] [৪] এর পরে হতাশা এবং অর্থায়ন হ্রাস [৫] []] তবে ২০১২ সালের পরে, যখন গভীর শিক্ষা পূর্ববর্তী এআইয়ের সমস্ত কৌশলকে ছাড়িয়ে গেছে, []] সেখানে একটি হয়েছে অর্থায়ন এবং আগ্রহের তীব্র বৃদ্ধি।\n",
      "\n",
      "এআই গবেষণার বিভিন্ন সাব-ডোমেনগুলি বিশেষ উদ্দেশ্য এবং নির্দিষ্ট সরঞ্জামগুলির ব্যবহারকে কেন্দ্র করে।এআই -তে গবেষণার traditional তিহ্যবাহী উদ্দেশ্যগুলি যুক্তি, জ্ঞানের প্রতিনিধিত্ব, পরিকল্পনা, শেখার, প্রাকৃতিক ভাষার চিকিত্সা, রোবোটিক্সের উপলব্ধি এবং পরিচালনা বোঝে [ ক্ষেত্রের উদ্দেশ্য।[]] এই সমস্যাগুলি সমাধান করার জন্য, আইএ গবেষকরা গাণিতিক গবেষণা এবং অপ্টিমাইজেশন, আনুষ্ঠানিক যুক্তি, কৃত্রিম নিউরাল নেটওয়ার্ক এবং পরিসংখ্যান, অপারেশনাল গবেষণা এবং অর্থনীতির উপর ভিত্তি করে পদ্ধতিগুলি সহ বিস্তৃত সমস্যা -সমাধান করার কৌশলগুলি অভিযোজিত ও সংহত করেছেন [[খ] এআই মনোবিজ্ঞান, ভাষাতত্ত্ব, দর্শন, নিউরোসায়েন্স এবং অন্যান্য অনেক ক্ষেত্রের উপর ভিত্তি করেও।\n"
     ]
    }
   ],
   "source": [
    "translator = Translator()\n",
    "translated_sentence = translator.translate(sentence, src='fr', dest='bn')\n",
    "# Print the translated sentence\n",
    "print(translated_sentence.text)"
   ]
  },
  {
   "cell_type": "code",
   "execution_count": 11,
   "id": "be044259-39cf-441f-aa9f-57f7ed514fba",
   "metadata": {
    "tags": []
   },
   "outputs": [
    {
     "name": "stdout",
     "output_type": "stream",
     "text": [
      "La inteligencia artificial (IA) es la inteligencia de máquinas o software, en oposición a la inteligencia de humanos o animales.También es el campo de los estudios de computación que desarrolla y estudia máquinas inteligentes.\"AI\" también puede referirse a las máquinas mismas.\n",
      "\n",
      "La tecnología de IA es ampliamente utilizada en la industria, el gobierno y la ciencia.Algunas aplicaciones líderes son: motores de búsqueda web avanzados (por ejemplo, investigación de Google), sistemas de recomendación (utilizados por YouTube, Amazon y Netflix), Comprensión del habla humana (como Siri y Alexa), autos autónomos (por ejemplo, Waymo), generativos o generativos o generativos o generativos o generativos Herramientas creativas (ChatGPT y AI Art) y competencia al más alto nivel en juegos estratégicos (como fallas y Go). [1]\n",
      "\n",
      "La inteligencia artificial se fundó como una disciplina académica en 1956. [2]El campo ha pasado por varios ciclos de optimismo [3] [4] seguido de decepción y pérdida de financiamiento [5] [6] Pero después de 2012, cuando el aprendizaje profundo superó todas las técnicas de IA anterior, [7] ha habido un Aumento fuerte en el financiamiento e intereses.\n",
      "\n",
      "Los diferentes subdominios de la investigación de IA se centran en objetivos especiales y en el uso de herramientas específicas.Los objetivos tradicionales de la investigación en la IA comprenden el razonamiento, la representación del conocimiento, la planificación, el aprendizaje, el tratamiento del lenguaje natural, la percepción y el manejo de la robótica. [A] la inteligencia general (la capacidad de resolver un problema arbitrario) es uno de los a largo plazo es uno de los a largo plazo es uno de los a largo plazo. Objetivos del campo.[8] Para resolver estos problemas, los investigadores de IA han adaptado e integrado una amplia gama de técnicas de resolución de problemas, incluida la investigación y optimización matemática, la lógica formal, las redes neuronales artificiales y los métodos basados ​​en estadísticas, investigación operativa y economía. [B] ai. También se basa en psicología, lingüística, filosofía, neurociencia y muchos otros campos.\n"
     ]
    }
   ],
   "source": [
    "translator = Translator()\n",
    "translated_sentence = translator.translate(sentence, src='fr', dest='es')\n",
    "# Print the translated sentence\n",
    "print(translated_sentence.text)"
   ]
  },
  {
   "cell_type": "code",
   "execution_count": 12,
   "id": "3cd9d5b4-54ec-4974-8a66-e38d96d4a626",
   "metadata": {
    "tags": []
   },
   "outputs": [
    {
     "name": "stdout",
     "output_type": "stream",
     "text": [
      "مصنوعی ذہانت (AI) مشینوں یا سافٹ ویئر کی ذہانت ہے ، جیسا کہ انسانوں یا جانوروں کی ذہانت کے برخلاف ہے۔یہ کمپیوٹر اسٹڈیز کا میدان بھی ہے جو سمارٹ مشینوں کو تیار کرتا ہے اور اس کا مطالعہ کرتا ہے۔\"عی\" خود مشینوں کا حوالہ بھی دے سکتا ہے۔\n",
      "\n",
      "اے آئی ٹکنالوجی کو صنعت ، حکومت اور سائنس میں بڑے پیمانے پر استعمال کیا جاتا ہے۔کچھ معروف ایپلی کیشنز یہ ہیں: اعلی درجے کی ویب سرچ انجن (مثال کے طور پر ، گوگل ریسرچ) ، سفارش کے نظام (یوٹیوب ، ایمیزون اور نیٹ فلکس کے ذریعہ استعمال شدہ) ، انسانی تقریر کو سمجھنا (سری اور الیکسا کے طور پر) ، خود مختار کاریں (مثال کے طور پر ، ویمو) ، جنریٹو یا تخلیقی ٹولز (چیٹگپٹ اور اے آئی آرٹ) اور اسٹریٹجک کھیلوں میں اعلی سطح پر مقابلہ (جیسے ناکامی اور گو)۔ [1]\n",
      "\n",
      "مصنوعی ذہانت کی بنیاد 1956 میں ایک تعلیمی نظم و ضبط کے طور پر رکھی گئی تھی۔ [2]یہ فیلڈ امید پسندی کے متعدد چکروں سے گزر چکا ہے []] []] اس کے بعد مایوسی اور مالی اعانت کا نقصان ہوا []] []] لیکن 2012 کے بعد ، جب گہری تعلیم نے پچھلی AI کی تمام تکنیک کو پیچھے چھوڑ دیا ، []] وہاں ایک رہا ہے۔ مالی اعانت اور دلچسپی میں تیزی سے اضافہ۔\n",
      "\n",
      "اے آئی ریسرچ کے مختلف ذیلی ڈومینز خصوصی مقاصد اور مخصوص ٹولز کے استعمال پر مرکوز ہیں۔اے آئی میں تحقیق کے روایتی مقاصد استدلال ، علم کی نمائندگی ، منصوبہ بندی ، سیکھنے ، قدرتی زبان کا علاج ، روبوٹکس کے خیال اور انتظام کو سمجھتے ہیں۔ فیلڈ کے مقاصد۔[]] ان مسائل کو حل کرنے کے لئے ، IA محققین نے ریاضی کی تحقیق اور اصلاح ، باضابطہ منطق ، مصنوعی اعصابی نیٹ ورکس اور اعدادوشمار ، آپریشنل ریسرچ اور معیشت پر مبنی طریقوں سمیت متعدد مسئلے کو حل کرنے کی تکنیک کو ڈھال لیا ہے۔ نفسیات ، لسانیات ، فلسفہ ، نیورو سائنس اور بہت سے دوسرے شعبوں پر بھی مبنی ہے۔\n"
     ]
    }
   ],
   "source": [
    "translator = Translator()\n",
    "translated_sentence = translator.translate(sentence, src='fr', dest='ur')\n",
    "# Print the translated sentence\n",
    "print(translated_sentence.text)"
   ]
  },
  {
   "cell_type": "code",
   "execution_count": null,
   "id": "0cad6c63-bb23-4aa3-8191-41656cbafaac",
   "metadata": {},
   "outputs": [],
   "source": []
  }
 ],
 "metadata": {
  "kernelspec": {
   "display_name": "Python 3 (ipykernel)",
   "language": "python",
   "name": "python3"
  },
  "language_info": {
   "codemirror_mode": {
    "name": "ipython",
    "version": 3
   },
   "file_extension": ".py",
   "mimetype": "text/x-python",
   "name": "python",
   "nbconvert_exporter": "python",
   "pygments_lexer": "ipython3",
   "version": "3.11.3"
  }
 },
 "nbformat": 4,
 "nbformat_minor": 5
}
